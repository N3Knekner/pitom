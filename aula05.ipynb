{
 "cells": [
  {
   "attachments": {},
   "cell_type": "markdown",
   "metadata": {},
   "source": [
    "Exercício 1"
   ]
  },
  {
   "cell_type": "code",
   "execution_count": 18,
   "metadata": {},
   "outputs": [
    {
     "name": "stdout",
     "output_type": "stream",
     "text": [
      "14\n"
     ]
    }
   ],
   "source": [
    "s = 'abcdefghijklmanopqrstuvwxyz'\n",
    "\n",
    "l = []\n",
    "m = 0\n",
    "for c in s:\n",
    "    if c in l:\n",
    "        if len(l) > m: m = len(l)\n",
    "        l = []\n",
    "    l.append(c)\n",
    "\n",
    "\n",
    "if len(l) > m: \n",
    "    m = len(l)\n",
    "\n",
    "print(m)"
   ]
  },
  {
   "cell_type": "code",
   "execution_count": 22,
   "metadata": {},
   "outputs": [
    {
     "name": "stdout",
     "output_type": "stream",
     "text": [
      "3\n"
     ]
    }
   ],
   "source": [
    "s = 'abcabcbb'\n",
    "\n",
    "l = []\n",
    "m = 0\n",
    "for c in s:\n",
    "    if c in l:\n",
    "        l = []\n",
    "    l.append(c)\n",
    "    if len(l) > m: m = len(l)\n",
    "\n",
    "print(m)"
   ]
  },
  {
   "attachments": {},
   "cell_type": "markdown",
   "metadata": {},
   "source": [
    "Execício 2"
   ]
  },
  {
   "cell_type": "code",
   "execution_count": 24,
   "metadata": {},
   "outputs": [
    {
     "name": "stdout",
     "output_type": "stream",
     "text": [
      "0 1 2\n"
     ]
    }
   ],
   "source": [
    "import math\n",
    "n = float(input('Numero: '))\n",
    "# converte pra inteiro\n",
    "n = math.floor(n)\n",
    "# mostra antecessor e sucessor\n",
    "print(n-1, n, n+1)"
   ]
  },
  {
   "attachments": {},
   "cell_type": "markdown",
   "metadata": {},
   "source": [
    "Exercício 3"
   ]
  },
  {
   "cell_type": "code",
   "execution_count": 25,
   "metadata": {},
   "outputs": [
    {
     "data": {
      "text/plain": [
       "['a', 'd', 'g', 'l', 'c', 'h', 'k', 'j', 's', ' ', 'v', 'n']"
      ]
     },
     "execution_count": 25,
     "metadata": {},
     "output_type": "execute_result"
    }
   ],
   "source": [
    "s = 'sadsjkldagvknhdjch adllcagg'\n",
    "\n",
    "def most_frequent(s: str):\n",
    "\n",
    "    l = {l:0 for l in set(s)}\n",
    "\n",
    "    for c in s:\n",
    "        l[c] += 1\n",
    "\n",
    "    l = sorted(l.items(), key=lambda r: r[1])\n",
    "    l.reverse()\n",
    "\n",
    "    l = list([i[0] for i in l])\n",
    "    return(l)\n",
    "\n",
    "\n",
    "most_frequent(s)"
   ]
  },
  {
   "attachments": {},
   "cell_type": "markdown",
   "metadata": {},
   "source": [
    "Desafio 4"
   ]
  },
  {
   "cell_type": "code",
   "execution_count": 28,
   "metadata": {},
   "outputs": [
    {
     "name": "stdout",
     "output_type": "stream",
     "text": [
      "6\n"
     ]
    }
   ],
   "source": [
    "i = 13\n",
    "\n",
    "c=0\n",
    "for i in range(i+1):\n",
    "    if '1' in str(i): c+=str(i).count('1')\n",
    "\n",
    "print(c)"
   ]
  },
  {
   "attachments": {},
   "cell_type": "markdown",
   "metadata": {},
   "source": [
    "Exercicio 5"
   ]
  },
  {
   "cell_type": "code",
   "execution_count": null,
   "metadata": {},
   "outputs": [],
   "source": []
  }
 ],
 "metadata": {
  "kernelspec": {
   "display_name": "env_py",
   "language": "python",
   "name": "python3"
  },
  "language_info": {
   "codemirror_mode": {
    "name": "ipython",
    "version": 3
   },
   "file_extension": ".py",
   "mimetype": "text/x-python",
   "name": "python",
   "nbconvert_exporter": "python",
   "pygments_lexer": "ipython3",
   "version": "3.8.16"
  },
  "orig_nbformat": 4
 },
 "nbformat": 4,
 "nbformat_minor": 2
}
