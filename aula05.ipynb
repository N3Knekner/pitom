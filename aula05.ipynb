{
 "cells": [
  {
   "attachments": {},
   "cell_type": "markdown",
   "metadata": {},
   "source": [
    "Exercício 1"
   ]
  },
  {
   "cell_type": "code",
   "execution_count": 18,
   "metadata": {},
   "outputs": [
    {
     "name": "stdout",
     "output_type": "stream",
     "text": [
      "14\n"
     ]
    }
   ],
   "source": [
    "s = 'abcdefghijklmanopqrstuvwxyz'\n",
    "\n",
    "l = []\n",
    "m = 0\n",
    "for c in s:\n",
    "    if c in l:\n",
    "        if len(l) > m: m = len(l)\n",
    "        l = []\n",
    "    l.append(c)\n",
    "\n",
    "\n",
    "if len(l) > m: \n",
    "    m = len(l)\n",
    "\n",
    "print(m)"
   ]
  },
  {
   "cell_type": "code",
   "execution_count": 22,
   "metadata": {},
   "outputs": [
    {
     "name": "stdout",
     "output_type": "stream",
     "text": [
      "3\n"
     ]
    }
   ],
   "source": [
    "s = 'abcabcbb'\n",
    "\n",
    "l = []\n",
    "m = 0\n",
    "for c in s:\n",
    "    if c in l:\n",
    "        l = []\n",
    "    l.append(c)\n",
    "    if len(l) > m: m = len(l)\n",
    "\n",
    "print(m)"
   ]
  }
 ],
 "metadata": {
  "kernelspec": {
   "display_name": "env_py",
   "language": "python",
   "name": "python3"
  },
  "language_info": {
   "codemirror_mode": {
    "name": "ipython",
    "version": 3
   },
   "file_extension": ".py",
   "mimetype": "text/x-python",
   "name": "python",
   "nbconvert_exporter": "python",
   "pygments_lexer": "ipython3",
   "version": "3.8.16"
  },
  "orig_nbformat": 4
 },
 "nbformat": 4,
 "nbformat_minor": 2
}
