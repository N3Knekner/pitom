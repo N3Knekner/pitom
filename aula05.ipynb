{
 "cells": [
  {
   "attachments": {},
   "cell_type": "markdown",
   "metadata": {},
   "source": [
    "Exercício 1"
   ]
  },
  {
   "cell_type": "code",
   "execution_count": 18,
   "metadata": {},
   "outputs": [
    {
     "name": "stdout",
     "output_type": "stream",
     "text": [
      "14\n"
     ]
    }
   ],
   "source": [
    "s = 'abcdefghijklmanopqrstuvwxyz'\n",
    "\n",
    "l = []\n",
    "m = 0\n",
    "for c in s:\n",
    "    if c in l:\n",
    "        if len(l) > m: m = len(l)\n",
    "        l = []\n",
    "    l.append(c)\n",
    "\n",
    "\n",
    "if len(l) > m: \n",
    "    m = len(l)\n",
    "\n",
    "print(m)"
   ]
  },
  {
   "cell_type": "code",
   "execution_count": 22,
   "metadata": {},
   "outputs": [
    {
     "name": "stdout",
     "output_type": "stream",
     "text": [
      "3\n"
     ]
    }
   ],
   "source": [
    "s = 'abcabcbb'\n",
    "\n",
    "l = []\n",
    "m = 0\n",
    "for c in s:\n",
    "    if c in l:\n",
    "        l = []\n",
    "    l.append(c)\n",
    "    if len(l) > m: m = len(l)\n",
    "\n",
    "print(m)"
   ]
  },
  {
   "attachments": {},
   "cell_type": "markdown",
   "metadata": {},
   "source": [
    "Execício 2"
   ]
  },
  {
   "cell_type": "code",
   "execution_count": 24,
   "metadata": {},
   "outputs": [
    {
     "name": "stdout",
     "output_type": "stream",
     "text": [
      "0 1 2\n"
     ]
    }
   ],
   "source": [
    "import math\n",
    "n = float(input('Numero: '))\n",
    "# converte pra inteiro\n",
    "n = math.floor(n)\n",
    "# mostra antecessor e sucessor\n",
    "print(n-1, n, n+1)"
   ]
  },
  {
   "attachments": {},
   "cell_type": "markdown",
   "metadata": {},
   "source": [
    "Exercício 3"
   ]
  },
  {
   "cell_type": "code",
   "execution_count": 25,
   "metadata": {},
   "outputs": [
    {
     "data": {
      "text/plain": [
       "['a', 'd', 'g', 'l', 'c', 'h', 'k', 'j', 's', ' ', 'v', 'n']"
      ]
     },
     "execution_count": 25,
     "metadata": {},
     "output_type": "execute_result"
    }
   ],
   "source": [
    "s = 'sadsjkldagvknhdjch adllcagg'\n",
    "\n",
    "def most_frequent(s: str):\n",
    "\n",
    "    l = {l:0 for l in set(s)}\n",
    "\n",
    "    for c in s:\n",
    "        l[c] += 1\n",
    "\n",
    "    l = sorted(l.items(), key=lambda r: r[1])\n",
    "    l.reverse()\n",
    "\n",
    "    l = list([i[0] for i in l])\n",
    "    return(l)\n",
    "\n",
    "\n",
    "most_frequent(s)"
   ]
  },
  {
   "cell_type": "code",
   "execution_count": 29,
   "metadata": {},
   "outputs": [
    {
     "data": {
      "text/plain": [
       "['a', 'd', 'g', 'l', 'c', 'h', 'k', 'j', 's', ' ', 'v', 'n']"
      ]
     },
     "execution_count": 29,
     "metadata": {},
     "output_type": "execute_result"
    }
   ],
   "source": [
    "s = 'sadsjkldagvknhdjch adllcagg'\n",
    "\n",
    "def most_frequent(s: str):\n",
    "\n",
    "    l = {l:s.count(l) for l in set(s)}\n",
    "\n",
    "    l = sorted(l.items(), key=lambda r: r[1])\n",
    "    l.reverse()\n",
    "\n",
    "    l = list([i[0] for i in l])\n",
    "    return(l)\n",
    "\n",
    "\n",
    "most_frequent(s)"
   ]
  },
  {
   "attachments": {},
   "cell_type": "markdown",
   "metadata": {},
   "source": [
    "Desafio 4"
   ]
  },
  {
   "cell_type": "code",
   "execution_count": 28,
   "metadata": {},
   "outputs": [
    {
     "name": "stdout",
     "output_type": "stream",
     "text": [
      "6\n"
     ]
    }
   ],
   "source": [
    "i = 13\n",
    "\n",
    "c=0\n",
    "for i in range(i+1):\n",
    "    if '1' in str(i): c+=str(i).count('1')\n",
    "\n",
    "print(c)"
   ]
  },
  {
   "attachments": {},
   "cell_type": "markdown",
   "metadata": {},
   "source": [
    "Exercicio 5"
   ]
  },
  {
   "cell_type": "code",
   "execution_count": 33,
   "metadata": {},
   "outputs": [
    {
     "data": {
      "text/plain": [
       "array([[0.58453775, 0.47933011, 0.68590496, 0.03434413, 0.26928943],\n",
       "       [0.26967127, 0.6590143 , 0.16274669, 0.63543633, 0.41210093],\n",
       "       [0.18246629, 0.16099719, 0.71369964, 0.83038691, 0.69548702],\n",
       "       [0.5957901 , 0.37335365, 0.11400864, 0.27044483, 0.68755327],\n",
       "       [0.31877971, 0.54033809, 0.37801759, 0.0121033 , 0.4331523 ],\n",
       "       [0.21577665, 0.82497421, 0.37563368, 0.38287743, 0.56525225],\n",
       "       [0.13176476, 0.89477249, 0.32397444, 0.60730557, 0.18923327],\n",
       "       [0.23111257, 0.19412948, 0.77226045, 0.38529263, 0.19384168],\n",
       "       [0.64281147, 0.48967861, 0.95175755, 0.71837713, 0.6479076 ],\n",
       "       [0.95766078, 0.35065932, 0.83118872, 0.67090111, 0.01051724]])"
      ]
     },
     "execution_count": 33,
     "metadata": {},
     "output_type": "execute_result"
    }
   ],
   "source": [
    "import numpy as np\n",
    "\n",
    "m = np.random.rand(int(input()), int(input()))\n",
    "\n",
    "m"
   ]
  },
  {
   "attachments": {},
   "cell_type": "markdown",
   "metadata": {},
   "source": [
    "Exercicio 6"
   ]
  },
  {
   "cell_type": "code",
   "execution_count": 34,
   "metadata": {},
   "outputs": [
    {
     "ename": "TypeError",
     "evalue": "'tuple' object does not support item assignment",
     "output_type": "error",
     "traceback": [
      "\u001b[0;31m---------------------------------------------------------------------------\u001b[0m",
      "\u001b[0;31mTypeError\u001b[0m                                 Traceback (most recent call last)",
      "Cell \u001b[0;32mIn[34], line 2\u001b[0m\n\u001b[1;32m      1\u001b[0m lista \u001b[39m=\u001b[39m \u001b[39m12\u001b[39m,\u001b[39m54\u001b[39m,\u001b[39m'\u001b[39m\u001b[39moi!\u001b[39m\u001b[39m'\u001b[39m\n\u001b[0;32m----> 2\u001b[0m lista[\u001b[39m0\u001b[39;49m] \u001b[39m=\u001b[39m \u001b[39m2\u001b[39m\n\u001b[1;32m      4\u001b[0m \u001b[39m# vai dar erro pq é tupla\u001b[39;00m\n",
      "\u001b[0;31mTypeError\u001b[0m: 'tuple' object does not support item assignment"
     ]
    }
   ],
   "source": [
    "lista = 12,54,'oi!'\n",
    "lista[0] = 2\n",
    "\n",
    "# vai dar erro pq é tupla"
   ]
  },
  {
   "attachments": {},
   "cell_type": "markdown",
   "metadata": {},
   "source": [
    "Exercicio 7"
   ]
  },
  {
   "cell_type": "code",
   "execution_count": 44,
   "metadata": {},
   "outputs": [
    {
     "data": {
      "text/plain": [
       "datetime.timedelta(days=284, seconds=20050, microseconds=74105)"
      ]
     },
     "execution_count": 44,
     "metadata": {},
     "output_type": "execute_result"
    }
   ],
   "source": [
    "import datetime\n",
    "\n",
    "s = input('data de nascimento: ')\n",
    "\n",
    "nasc = datetime.datetime.strptime(s, '%d/%m/%Y')\n",
    "\n",
    "agora = datetime.datetime.now()\n",
    "niver = datetime.datetime(agora.year+1, nasc.month, nasc.day)\n",
    "\n",
    "niver - agora\n",
    "\n",
    "\n"
   ]
  }
 ],
 "metadata": {
  "kernelspec": {
   "display_name": "env_py",
   "language": "python",
   "name": "python3"
  },
  "language_info": {
   "codemirror_mode": {
    "name": "ipython",
    "version": 3
   },
   "file_extension": ".py",
   "mimetype": "text/x-python",
   "name": "python",
   "nbconvert_exporter": "python",
   "pygments_lexer": "ipython3",
   "version": "3.8.16"
  },
  "orig_nbformat": 4
 },
 "nbformat": 4,
 "nbformat_minor": 2
}
