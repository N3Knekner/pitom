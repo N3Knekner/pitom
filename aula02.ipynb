{
 "cells": [
  {
   "cell_type": "code",
   "execution_count": 1,
   "metadata": {},
   "outputs": [],
   "source": [
    "import pandas as pd"
   ]
  },
  {
   "cell_type": "code",
   "execution_count": null,
   "metadata": {},
   "outputs": [],
   "source": [
    "pd.read_csv\n",
    "pd.read_excel\n",
    "pd.read_sql\n",
    "pd.read_parquer"
   ]
  },
  {
   "cell_type": "code",
   "execution_count": 2,
   "metadata": {},
   "outputs": [],
   "source": [
    "globalstore = pd.read_csv(\n",
    "    'globalstore.csv',\n",
    "    sep=',', #skiprows = 2\n",
    "    encoding='utf-8'\n",
    ")"
   ]
  },
  {
   "attachments": {},
   "cell_type": "markdown",
   "metadata": {},
   "source": [
    "- pd.read_???\n",
    "- pd.to_???"
   ]
  },
  {
   "cell_type": "code",
   "execution_count": null,
   "metadata": {},
   "outputs": [],
   "source": [
    "pd.DataFrame()\n",
    "head/tail(x) # pega as x primeiras/ultimas linhas\n",
    "rename/drop\n",
    "copy / columns / new columns\n",
    " "
   ]
  },
  {
   "cell_type": "code",
   "execution_count": 4,
   "metadata": {},
   "outputs": [
    {
     "data": {
      "text/plain": [
       "Row ID              int64\n",
       "Order ID           object\n",
       "Order Date         object\n",
       "Ship Date          object\n",
       "Ship Mode          object\n",
       "Customer ID        object\n",
       "Customer Name      object\n",
       "Segment            object\n",
       "City               object\n",
       "State              object\n",
       "Country            object\n",
       "Postal Code       float64\n",
       "Market             object\n",
       "Region             object\n",
       "Product ID         object\n",
       "Category           object\n",
       "Sub-Category       object\n",
       "Product Name       object\n",
       "Sales             float64\n",
       "Quantity            int64\n",
       "Discount          float64\n",
       "Profit            float64\n",
       "Shipping Cost     float64\n",
       "Order Priority     object\n",
       "dtype: object"
      ]
     },
     "execution_count": 4,
     "metadata": {},
     "output_type": "execute_result"
    }
   ],
   "source": [
    "globalstore.dtypes"
   ]
  },
  {
   "cell_type": "code",
   "execution_count": null,
   "metadata": {},
   "outputs": [],
   "source": [
    "print(globalstore['Row ID'])\n",
    "\n",
    "globalstore.rename(\n",
    "    columns = {\n",
    "        'Row ID': 'items_sequence',\n",
    "        'Order ID': 'order_number',\n",
    "        'Order Date': 'order_date',\n",
    "        'Ship Date': 'ship_date',\n",
    "        'Ship Mode': 'ship_mode',\n",
    "        'Customer ID': 'custumer_id',\n",
    "        'Custumer Name': 'customer_name',\n",
    "    }\n",
    ")\n",
    "\n",
    "print(globalstore.items_sequence)"
   ]
  },
  {
   "attachments": {},
   "cell_type": "markdown",
   "metadata": {},
   "source": [
    "### apaga coluna"
   ]
  },
  {
   "cell_type": "code",
   "execution_count": null,
   "metadata": {},
   "outputs": [],
   "source": [
    "globalstore = globalstore.drop(\n",
    "    columns = [\n",
    "        'items_sequence'\n",
    "    ]\n",
    ")"
   ]
  },
  {
   "attachments": {},
   "cell_type": "markdown",
   "metadata": {},
   "source": [
    "### regera o índice\n",
    "o índice antigo é adicionado como coluna\n",
    "\n",
    "bom executar no final de carregar dados ou alterar muitas informações"
   ]
  },
  {
   "cell_type": "code",
   "execution_count": null,
   "metadata": {},
   "outputs": [],
   "source": [
    "globalstore.reset_index()"
   ]
  },
  {
   "cell_type": "code",
   "execution_count": 5,
   "metadata": {},
   "outputs": [
    {
     "name": "stdout",
     "output_type": "stream",
     "text": [
      "<class 'pandas.core.frame.DataFrame'>\n",
      "RangeIndex: 51290 entries, 0 to 51289\n",
      "Data columns (total 24 columns):\n",
      " #   Column          Non-Null Count  Dtype  \n",
      "---  ------          --------------  -----  \n",
      " 0   Row ID          51290 non-null  int64  \n",
      " 1   Order ID        51290 non-null  object \n",
      " 2   Order Date      51290 non-null  object \n",
      " 3   Ship Date       51290 non-null  object \n",
      " 4   Ship Mode       51290 non-null  object \n",
      " 5   Customer ID     51290 non-null  object \n",
      " 6   Customer Name   51290 non-null  object \n",
      " 7   Segment         51290 non-null  object \n",
      " 8   City            51290 non-null  object \n",
      " 9   State           51290 non-null  object \n",
      " 10  Country         51290 non-null  object \n",
      " 11  Postal Code     9994 non-null   float64\n",
      " 12  Market          51290 non-null  object \n",
      " 13  Region          51290 non-null  object \n",
      " 14  Product ID      51290 non-null  object \n",
      " 15  Category        51290 non-null  object \n",
      " 16  Sub-Category    51290 non-null  object \n",
      " 17  Product Name    51290 non-null  object \n",
      " 18  Sales           51290 non-null  float64\n",
      " 19  Quantity        51290 non-null  int64  \n",
      " 20  Discount        51290 non-null  float64\n",
      " 21  Profit          51290 non-null  float64\n",
      " 22  Shipping Cost   51290 non-null  float64\n",
      " 23  Order Priority  51290 non-null  object \n",
      "dtypes: float64(5), int64(2), object(17)\n",
      "memory usage: 9.4+ MB\n"
     ]
    }
   ],
   "source": [
    "globalstore.info()"
   ]
  },
  {
   "cell_type": "code",
   "execution_count": 6,
   "metadata": {},
   "outputs": [
    {
     "data": {
      "text/plain": [
       "Index(['Row ID', 'Order ID', 'Order Date', 'Ship Date', 'Ship Mode',\n",
       "       'Customer ID', 'Customer Name', 'Segment', 'City', 'State', 'Country',\n",
       "       'Postal Code', 'Market', 'Region', 'Product ID', 'Category',\n",
       "       'Sub-Category', 'Product Name', 'Sales', 'Quantity', 'Discount',\n",
       "       'Profit', 'Shipping Cost', 'Order Priority'],\n",
       "      dtype='object')"
      ]
     },
     "execution_count": 6,
     "metadata": {},
     "output_type": "execute_result"
    }
   ],
   "source": [
    "globalstore.columns"
   ]
  }
 ],
 "metadata": {
  "kernelspec": {
   "display_name": "env_py",
   "language": "python",
   "name": "python3"
  },
  "language_info": {
   "codemirror_mode": {
    "name": "ipython",
    "version": 3
   },
   "file_extension": ".py",
   "mimetype": "text/x-python",
   "name": "python",
   "nbconvert_exporter": "python",
   "pygments_lexer": "ipython3",
   "version": "3.8.16"
  },
  "orig_nbformat": 4
 },
 "nbformat": 4,
 "nbformat_minor": 2
}
